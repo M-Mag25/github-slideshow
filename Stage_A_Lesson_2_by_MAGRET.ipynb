{
  "nbformat": 4,
  "nbformat_minor": 0,
  "metadata": {
    "colab": {
      "name": "Stage A: Lesson 2 by MAGRET",
      "provenance": [],
      "collapsed_sections": [],
      "authorship_tag": "ABX9TyPDlufLTiwI3xzCXDF5/qUs",
      "include_colab_link": true
    },
    "kernelspec": {
      "name": "python3",
      "display_name": "Python 3"
    },
    "language_info": {
      "name": "python"
    }
  },
  "cells": [
    {
      "cell_type": "markdown",
      "metadata": {
        "id": "view-in-github",
        "colab_type": "text"
      },
      "source": [
        "<a href=\"https://colab.research.google.com/github/M-Mag25/github-slideshow/blob/master/Stage_A_Lesson_2_by_MAGRET.ipynb\" target=\"_parent\"><img src=\"https://colab.research.google.com/assets/colab-badge.svg\" alt=\"Open In Colab\"/></a>"
      ]
    },
    {
      "cell_type": "code",
      "metadata": {
        "colab": {
          "base_uri": "https://localhost:8080/"
        },
        "id": "0z6RC49UeMpV",
        "outputId": "de357374-12c3-42f2-8044-588c5b174b73"
      },
      "source": [
        "#convention for importing numpy\n",
        "import numpy as np\n",
        "arr = [6, 7, 8, 9]\n",
        "print(type(arr))"
      ],
      "execution_count": null,
      "outputs": [
        {
          "output_type": "stream",
          "text": [
            "<class 'list'>\n"
          ],
          "name": "stdout"
        }
      ]
    },
    {
      "cell_type": "code",
      "metadata": {
        "colab": {
          "base_uri": "https://localhost:8080/"
        },
        "id": "M_xQXb7wfSK3",
        "outputId": "ef79431e-b910-4f9a-ca78-6dbf5aefcf8f"
      },
      "source": [
        "a = np.array(arr)\n",
        "print(type(a))\n",
        "print(a.shape)\n",
        "print(a.dtype)\n"
      ],
      "execution_count": null,
      "outputs": [
        {
          "output_type": "stream",
          "text": [
            "<class 'numpy.ndarray'>\n",
            "(4,)\n",
            "int64\n"
          ],
          "name": "stdout"
        }
      ]
    },
    {
      "cell_type": "code",
      "metadata": {
        "colab": {
          "base_uri": "https://localhost:8080/"
        },
        "id": "zsEs8rp_fqxY",
        "outputId": "0b48a032-4df4-4a1a-edfa-aa9da3c024c1"
      },
      "source": [
        "#get the dimension of a width ndim\n",
        "print(a.ndim)\n",
        "\n",
        "b =np.array([[1, 2, 3], [4, 5, 6]])\n",
        "print(b)\n",
        "print(b.ndim) #b.ndim did not give any output until I put print\n",
        "b.shape #or print(b.shape)"
      ],
      "execution_count": null,
      "outputs": [
        {
          "output_type": "stream",
          "text": [
            "1\n",
            "[[1 2 3]\n",
            " [4 5 6]]\n",
            "2\n"
          ],
          "name": "stdout"
        },
        {
          "output_type": "execute_result",
          "data": {
            "text/plain": [
              "(2, 3)"
            ]
          },
          "metadata": {
            "tags": []
          },
          "execution_count": 13
        }
      ]
    },
    {
      "cell_type": "code",
      "metadata": {
        "colab": {
          "base_uri": "https://localhost:8080/"
        },
        "id": "ai_xYKFEiZn6",
        "outputId": "ffd157c1-5b9e-42ec-ce22-f538055a3642"
      },
      "source": [
        "#import numpy as np\n",
        "arr= [6, 7, 8, 9]\n",
        "print(type(arr))\n",
        "a = np.array(arr)\n",
        "print(type(a))\n",
        "print(a.shape)\n",
        "print(a.dtype)"
      ],
      "execution_count": null,
      "outputs": [
        {
          "output_type": "stream",
          "text": [
            "<class 'list'>\n",
            "<class 'numpy.ndarray'>\n",
            "(4,)\n",
            "int64\n"
          ],
          "name": "stdout"
        }
      ]
    },
    {
      "cell_type": "code",
      "metadata": {
        "colab": {
          "base_uri": "https://localhost:8080/"
        },
        "id": "BW8Z2HHgjvmO",
        "outputId": "3659bc65-84b9-44de-fd94-2c9b3664b42b"
      },
      "source": [
        "#get the dimension of a width ndim\n",
        "print(a.ndim)\n",
        "b = np.array([[1, 2, 3], [4, 5, 6]])\n",
        "print(b)\n",
        "print(b.shape)# or I can use b.shape after print(b.ndim) butif I use b.shape alone before print(b.ndim), there's no output\n",
        "print(b.ndim)\n",
        "print(b.dtype)\n"
      ],
      "execution_count": null,
      "outputs": [
        {
          "output_type": "stream",
          "text": [
            "1\n",
            "[[1 2 3]\n",
            " [4 5 6]]\n",
            "(2, 3)\n",
            "2\n",
            "int64\n"
          ],
          "name": "stdout"
        }
      ]
    },
    {
      "cell_type": "code",
      "metadata": {
        "colab": {
          "base_uri": "https://localhost:8080/"
        },
        "id": "2Xl52cRbk8Xz",
        "outputId": "64b3bdb5-ee29-413e-a68f-a30dac093d8c"
      },
      "source": [
        "# Inbuilt function that can be use to initialize numpy which include empty(), zeros(), ones(), full(), random.random().\n",
        "# a 2*3 array with random values\n",
        "np.random.random((2, 3))\n",
        "#a 2*3 arrays of zeros\n",
        "np.zeros((2,3))\n",
        "# a 2*3 array of ones\n",
        "np.ones((2,3))\n",
        "# a 3*3 identity matrix\n",
        "np.identity((3))\n"
      ],
      "execution_count": null,
      "outputs": [
        {
          "output_type": "execute_result",
          "data": {
            "text/plain": [
              "array([[1., 0., 0.],\n",
              "       [0., 1., 0.],\n",
              "       [0., 0., 1.]])"
            ]
          },
          "metadata": {
            "tags": []
          },
          "execution_count": 31
        }
      ]
    },
    {
      "cell_type": "code",
      "metadata": {
        "colab": {
          "base_uri": "https://localhost:8080/"
        },
        "id": "BPvJFLQ3mekR",
        "outputId": "5853bc9a-44ec-43fd-8668-66a41fbf3d1b"
      },
      "source": [
        "# Intra-operability of arrays and scalars\n",
        "c = np.array([[9.0, 8.0,7.0], [1.0, 2.0, 3.0]])\n",
        "d = np.array([[4.0, 5.0, 6.0], [9.0, 8.0, 7.0]])\n",
        "c + d\n",
        "c*d\n",
        "5/d\n",
        "5/c\n",
        "c**2\n",
        "d**2\n",
        "print(type(c))\n",
        "arr= [[9.0, 8.0,7.0], [1.0, 2.0, 3.0]]\n",
        "print(type(arr))\n",
        "print(c.shape)\n",
        "print(d.shape)\n",
        "print(c.ndim)\n",
        "print(c.dtype)\n",
        "print(d.dtype)\n",
        "np.random.random((2, 3))\n"
      ],
      "execution_count": null,
      "outputs": [
        {
          "output_type": "stream",
          "text": [
            "<class 'numpy.ndarray'>\n",
            "<class 'list'>\n",
            "(2, 3)\n",
            "(2, 3)\n",
            "2\n",
            "float64\n",
            "float64\n"
          ],
          "name": "stdout"
        },
        {
          "output_type": "execute_result",
          "data": {
            "text/plain": [
              "array([[0.57956875, 0.38305677, 0.0387218 ],\n",
              "       [0.4572233 , 0.43000015, 0.08532518]])"
            ]
          },
          "metadata": {
            "tags": []
          },
          "execution_count": 47
        }
      ]
    },
    {
      "cell_type": "code",
      "metadata": {
        "colab": {
          "base_uri": "https://localhost:8080/"
        },
        "id": "UwBS6YM5oQeM",
        "outputId": "c4a3b6bd-3313-4301-b16d-d167b1726b41"
      },
      "source": [
        "#Indexing with arrays and AMP; using arrays and data processing.\n",
        "a[0]\n",
        "a[1]\n",
        "a[2]\n",
        "a[3]\n",
        "b[0, 0]\n",
        "b[0, 1]\n",
        "#b[0, 2]\n",
        "#b[1, 0]\n",
        "#b[1, 1]\n",
        "#b[1, 2]\n",
        "#c[0 ,0]\n",
        "#c[0, 1]\n",
        "#c[0, 2]\n",
        "#c[1, 0]\n",
        "#c[1, 1]\n",
        "#c[1, 2]\n"
      ],
      "execution_count": null,
      "outputs": [
        {
          "output_type": "execute_result",
          "data": {
            "text/plain": [
              "2"
            ]
          },
          "metadata": {
            "tags": []
          },
          "execution_count": 53
        }
      ]
    },
    {
      "cell_type": "code",
      "metadata": {
        "colab": {
          "base_uri": "https://localhost:8080/"
        },
        "id": "ulLUc8Erqlch",
        "outputId": "fe94ffe1-64c8-4a5e-d783-cf3d4bd047b5"
      },
      "source": [
        "# Elements in arrays can be retrieved by slicing rows and columns or a combination of indexing and slicing\n",
        "d[1, 0:2] \n",
        "d[0, 0:2]\n",
        "c[0, 0:2]\n",
        "c[1, 0:2]\n",
        "c[0, 0:1]\n",
        "c[1, 0:1]\n",
        "\n",
        "e = np.array([[10, 11, 12], [13, 14,15], [16, 17, 18], [19, 20, 21]])\n",
        "\n",
        "#SLICING\n",
        "e[:3, :2]\n",
        "e[:2, :3]\n",
        "e[:2, :2]\n",
        "e[:1, :3]\n",
        "e[:1, :2]\n",
        "e[:3, :1]\n",
        "e[:3, :3]\n",
        "e[:4, :2]\n",
        "e[:4, : 3]\n",
        "e[:4, :4]#this is the same with e[:4, :3]\n"
      ],
      "execution_count": null,
      "outputs": [
        {
          "output_type": "execute_result",
          "data": {
            "text/plain": [
              "array([[10, 11, 12],\n",
              "       [13, 14, 15],\n",
              "       [16, 17, 18],\n",
              "       [19, 20, 21]])"
            ]
          },
          "metadata": {
            "tags": []
          },
          "execution_count": 74
        }
      ]
    },
    {
      "cell_type": "code",
      "metadata": {
        "colab": {
          "base_uri": "https://localhost:8080/"
        },
        "id": "LpCS5LfFssta",
        "outputId": "786e97ec-04af-427f-bf9d-e9d185d3986e"
      },
      "source": [
        "#Other Advanced methods of indexing \n",
        "#Interer Indexing\n",
        "e[[2, 0, 3, 1], [2, 1, 0, 2]] \n",
        "\n",
        "#Boolean indexing meeting a specified condition\n",
        "e[e>15]"
      ],
      "execution_count": null,
      "outputs": [
        {
          "output_type": "execute_result",
          "data": {
            "text/plain": [
              "array([16, 17, 18, 19, 20, 21])"
            ]
          },
          "metadata": {
            "tags": []
          },
          "execution_count": 79
        }
      ]
    }
  ]
}